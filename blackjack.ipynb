{
 "cells": [
  {
   "cell_type": "markdown",
   "metadata": {},
   "source": [
    "# Blackjack\n",
    "\n",
    "![Blackjack](https://media.giphy.com/media/3o6ozz6ncHTtmuhW36/giphy.gif)\n",
    "\n",
    "## Dependencias\n",
    "\n",
    "Por facilitarnos un poco la vida utilizamos *numpy* para el cálculo numérico."
   ]
  },
  {
   "cell_type": "code",
   "execution_count": null,
   "metadata": {
    "collapsed": true
   },
   "outputs": [],
   "source": [
    "import numpy as np"
   ]
  },
  {
   "cell_type": "markdown",
   "metadata": {},
   "source": [
    "## Baraja, valor de las cartas y reglas\n",
    "\n",
    "Crearemos clases para el juego en sí, la baraja y los dos tipos posibles de jugadores."
   ]
  },
  {
   "cell_type": "code",
   "execution_count": null,
   "metadata": {
    "collapsed": false
   },
   "outputs": [],
   "source": [
    "class Game:\n",
    "    def __init__(self):\n",
    "        self.dealer = Dealer()\n",
    "        self.player = Player()\n",
    "        self.deck = Deck()\n",
    "        \n",
    "        self.deck.shuffle()\n",
    "        self.dealer.new_card(self.deck.get_card())\n",
    "        self.dealer.new_card(self.deck.get_card())\n",
    "        self.player.new_card(self.deck.get_card())\n",
    "        self.player.new_card(self.deck.get_card())\n",
    "        \n",
    "    def stop(self):\n",
    "        if self.player.count() > 21:\n",
    "            return 'Tus cartas suman más de 21, has perdido'\n",
    "        elif self.dealer.count() > 21:\n",
    "            return '¡Ganaste!'\n",
    "        elif self.player.count() < self.dealer.count():\n",
    "            return 'Gana el dealer'\n",
    "        elif self.player.count() == self.dealer.count():\n",
    "            return 'Draw'\n",
    "        else:\n",
    "            return '¡Ganaste!'\n",
    "        \n",
    "    def play(self):\n",
    "        self.player.new_card(self.deck.get_card())\n",
    "\n",
    "class Deck:\n",
    "    def __init__(self):\n",
    "        deck = np.arange(1, 14)\n",
    "        deck = np.concatenate((deck, deck))\n",
    "        deck = np.concatenate((deck, deck))\n",
    "        self.deck = deck\n",
    "        self.index = 0\n",
    "    \n",
    "    def __str__(self):\n",
    "        return str(self.deck)\n",
    "        \n",
    "    def shuffle(self):\n",
    "        np.random.shuffle(self.deck)\n",
    "        \n",
    "    def get_card(self):\n",
    "        card = self.deck[0:1]\n",
    "        self.deck = self.deck[1:]\n",
    "        return card\n",
    "\n",
    "class Player:\n",
    "    def __init__(self):\n",
    "        self.cards = np.array([])\n",
    "        \n",
    "    def __str__(self):\n",
    "        return str(self.cards)\n",
    "    \n",
    "    def count(self):\n",
    "        # Forma de contar el número de ases que tenemos en nuestra mano (o la banca)\n",
    "        self.cards = np.sort(self.cards)\n",
    "        self.cards = self.cards[::-1]\n",
    "        x = np.bincount(self.cards.astype(np.int64))\n",
    "        y = zip(self.cards.astype(np.int64), x)\n",
    "        \n",
    "        result = 0\n",
    "        for value in self.cards:\n",
    "            if int(value) != 1:\n",
    "                result += deck_values[int(value)]\n",
    "        \n",
    "        # Sumamos todos los ases que tengamos y luego si podemos le vamos añadiendo 11, según interese\n",
    "        result += y[1][1]\n",
    "        for i in range(y[1][1]):\n",
    "            if result + 10 > 23:\n",
    "                break\n",
    "            else:\n",
    "                result += 10\n",
    "                \n",
    "        return result\n",
    "    \n",
    "    def new_card(self, card):\n",
    "        self.cards = np.append(self.cards, card)\n",
    "    \n",
    "class Dealer(Player):\n",
    "    def __str__(self):\n",
    "        return '[ ' + str(int(self.cards[0])) + '. X' + ' ]'\n",
    "        \n",
    "deck_values = {1: (1, 11), 2: 2, 3: 3, 4: 4, 5: 5, 6: 6, 7: 7, 8: 8, 9: 9, 10: 10, 11: 10, 12: 10, 13: 10}"
   ]
  },
  {
   "cell_type": "markdown",
   "metadata": {},
   "source": [
    "# ¿Ganaremos a la banca? Suma 21\n",
    "\n",
    "![Casino](https://media.giphy.com/media/3o72FeJnjfZZ31WjBu/giphy.gif)"
   ]
  },
  {
   "cell_type": "code",
   "execution_count": null,
   "metadata": {
    "collapsed": false
   },
   "outputs": [],
   "source": [
    "while True:\n",
    "    print '--------------------------------------------------------------------------------'\n",
    "    print 'Nueva partida'\n",
    "    print '--------------------------------------------------------------------------------'\n",
    "    blackjack = Game()\n",
    "    print 'Las cartas del dealer son: ', blackjack.dealer\n",
    "    print 'Tus cartas son: ', blackjack.player\n",
    "    option = ''\n",
    "    while option == '':\n",
    "        option = raw_input('Presiona enter si quieres otra carta, escribe cualquier cosa y dale a enter si te quieres quedar así y conocer el resultado:')\n",
    "        if option == '':\n",
    "            if blackjack.stop() == 'Tus cartas suman más de 23, has perdido':\n",
    "                # Option podría tener cualquier valor\n",
    "                option = 'fin'\n",
    "                continue\n",
    "            blackjack.play()\n",
    "            print 'Tus cartas son ', blackjack.player\n",
    "    print '--------------------------------------------------------------------------------'\n",
    "    print 'Resultados'\n",
    "    print '--------------------------------------------------------------------------------'\n",
    "    print 'Las cartas del dealer son ', blackjack.dealer.cards, ' y suman ', blackjack.dealer.count()\n",
    "    print 'Tus cartas son ', blackjack.player.cards, ' y suman ', blackjack.player.count()\n",
    "    print blackjack.stop()"
   ]
  }
 ],
 "metadata": {
  "kernelspec": {
   "display_name": "Python 2",
   "language": "python",
   "name": "python2"
  },
  "language_info": {
   "codemirror_mode": {
    "name": "ipython",
    "version": 2
   },
   "file_extension": ".py",
   "mimetype": "text/x-python",
   "name": "python",
   "nbconvert_exporter": "python",
   "pygments_lexer": "ipython2",
   "version": "2.7.12"
  }
 },
 "nbformat": 4,
 "nbformat_minor": 2
}
