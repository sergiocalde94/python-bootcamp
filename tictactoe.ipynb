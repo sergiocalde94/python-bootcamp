{
 "cells": [
  {
   "cell_type": "markdown",
   "metadata": {},
   "source": [
    "# TIC TAC TOE\n",
    "\n",
    "Versión muy tonta para jugar un poco con *python*, podríamos aplicar un *minmax* para jugar contra la máquina, una interfaz gráfica, etc...\n",
    "\n",
    "## Dependencias\n",
    "\n",
    "No sería necesario numpy pero nos facilita algunas de las comprobaciones a la hora de saber si alguno de los jugadores ha ganado."
   ]
  },
  {
   "cell_type": "code",
   "execution_count": null,
   "metadata": {
    "collapsed": true
   },
   "outputs": [],
   "source": [
    "import numpy as np"
   ]
  },
  {
   "cell_type": "markdown",
   "metadata": {},
   "source": [
    "## Creamos el tablero del juego y jugadores"
   ]
  },
  {
   "cell_type": "code",
   "execution_count": null,
   "metadata": {
    "collapsed": false
   },
   "outputs": [],
   "source": [
    "print 'Bienvenido al Tic Tac Toe :)'\n",
    "print 'Los posibles movimientos se representarán del 1 al 9, contando de izquierda a derecha y de arriba abajo.'\n",
    "print 'El jugador 1 será representado con un círculo y el jugador 2 con una cruz \\n'\n",
    "\n",
    "player1 = raw_input('Jugador 1, por favor, ingresa tu nombre: ')\n",
    "player2 = raw_input('Jugador 2, por favor, ingresa tu nombre: ')\n",
    "\n",
    "while(player2 == player1):\n",
    "    player2 = raw_input('No podéis tener el mismo nombre, ingresa uno nuevo: ')\n",
    "\n",
    "players = {player1: 'O', player2: 'X'}\n",
    "board = np.reshape(np.array([[\"-\"], [\"-\"], [\"-\"]] * 3), (3, 3))\n",
    "print '\\n', board"
   ]
  },
  {
   "cell_type": "markdown",
   "metadata": {},
   "source": [
    "## Método para comprobar si hay victoria\n",
    "\n",
    "Hay que tener en cuenta horizontales, verticales y las dos diagonales."
   ]
  },
  {
   "cell_type": "code",
   "execution_count": null,
   "metadata": {
    "collapsed": false
   },
   "outputs": [],
   "source": [
    "def is_winner(board, player):\n",
    "    if player == 'O':\n",
    "        player_win = np.array(['O', 'O', 'O'])\n",
    "    else:\n",
    "        player_win = np.array(['X', 'X', 'X'])\n",
    "    \n",
    "    return (True if np.array_equal(board[:1].reshape((3,)), player_win) else True if np.array_equal(board[1:2].reshape((3,)), player_win) \n",
    "        else True if np.array_equal(board[2:3].reshape((3,)), player_win) else True if np.array_equal(board[:,:1].reshape((3,)), player_win) \n",
    "        else True if np.array_equal(board[:,1:2].reshape((3,)), player_win) else True if np.array_equal(board[:,2:3].reshape((3,)), player_win)\n",
    "        else True if np.array_equal(np.diag(board), player_win) else True if np.array_equal(np.diag(np.fliplr(board)), player_win) else False)"
   ]
  },
  {
   "cell_type": "markdown",
   "metadata": {},
   "source": [
    "## Movimientos posibles\n",
    "\n",
    "Básicamente donde haya un guión es que no hemos colocado ninguna ficha y por tanto es un hueco disponible para ser jugado."
   ]
  },
  {
   "cell_type": "code",
   "execution_count": null,
   "metadata": {
    "collapsed": false
   },
   "outputs": [],
   "source": [
    "moves = []\n",
    "cursor = 0\n",
    "for line in board:\n",
    "    for box in line:\n",
    "        cursor += 1\n",
    "        if(box == '-'):\n",
    "            moves.append(cursor)"
   ]
  },
  {
   "cell_type": "markdown",
   "metadata": {},
   "source": [
    "## Juego\n",
    "\n",
    "Bucle del juego donde podremos competir 1 vs 1."
   ]
  },
  {
   "cell_type": "code",
   "execution_count": null,
   "metadata": {
    "collapsed": false
   },
   "outputs": [],
   "source": [
    "winner = 0\n",
    "while((not moves) == False and winner == 0):\n",
    "    for name, symbol in players.items():\n",
    "        print 'Tu turno {name}.'.format(name = name)\n",
    "        print 'Posibles movimientos: {moves})'.format(moves = moves)\n",
    "        print '\\n', board\n",
    "        move = raw_input('¿Dónde quieres mover?')\n",
    "        while(int(move) not in moves or (not moves)):\n",
    "            move = raw_input('¿Dónde quieres mover? ')\n",
    "            if(int(move) not in moves):\n",
    "                print 'El movimiento indicado no es correcto'\n",
    "        moves.remove(int(move))\n",
    "        board = np.reshape(board, (9, 1))\n",
    "        board[int(move) - 1] = symbol\n",
    "        board = np.reshape(board, (3,3))\n",
    "        print board\n",
    "\n",
    "        if(is_winner(board, symbol)):\n",
    "            print 'Enhorabuena', name,'has ganado!'\n",
    "            winner = 1\n",
    "            break\n",
    "        if(not moves):\n",
    "            print 'Empate!'\n",
    "            break\n"
   ]
  }
 ],
 "metadata": {
  "kernelspec": {
   "display_name": "Python 2",
   "language": "python",
   "name": "python2"
  },
  "language_info": {
   "codemirror_mode": {
    "name": "ipython",
    "version": 2
   },
   "file_extension": ".py",
   "mimetype": "text/x-python",
   "name": "python",
   "nbconvert_exporter": "python",
   "pygments_lexer": "ipython2",
   "version": "2.7.12"
  }
 },
 "nbformat": 4,
 "nbformat_minor": 2
}
